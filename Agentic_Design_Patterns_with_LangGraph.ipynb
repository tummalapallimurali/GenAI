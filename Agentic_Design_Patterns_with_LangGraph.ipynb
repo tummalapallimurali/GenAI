{
  "nbformat": 4,
  "nbformat_minor": 0,
  "metadata": {
    "colab": {
      "provenance": [],
      "toc_visible": true,
      "include_colab_link": true
    },
    "kernelspec": {
      "name": "python3",
      "display_name": "Python 3"
    },
    "language_info": {
      "name": "python"
    }
  },
  "cells": [
    {
      "cell_type": "markdown",
      "metadata": {
        "id": "view-in-github",
        "colab_type": "text"
      },
      "source": [
        "<a href=\"https://colab.research.google.com/github/tummalapallimurali/GenAI/blob/main/Agentic_Design_Patterns_with_LangGraph.ipynb\" target=\"_parent\"><img src=\"https://colab.research.google.com/assets/colab-badge.svg\" alt=\"Open In Colab\"/></a>"
      ]
    },
    {
      "cell_type": "markdown",
      "source": [
        "# Agentic Design Patterns with LangGraph"
      ],
      "metadata": {
        "id": "qmrGqPg1NQoV"
      }
    },
    {
      "cell_type": "code",
      "execution_count": null,
      "metadata": {
        "colab": {
          "base_uri": "https://localhost:8080/"
        },
        "id": "RD2UlLxNx9Vv",
        "outputId": "282d4521-7f4f-4114-8062-5aaca980b46b"
      },
      "outputs": [
        {
          "output_type": "stream",
          "name": "stdout",
          "text": [
            "\u001b[2K     \u001b[90m━━━━━━━━━━━━━━━━━━━━━━━━━━━━━━━━━━━━━━━━\u001b[0m \u001b[32m43.7/43.7 kB\u001b[0m \u001b[31m2.1 MB/s\u001b[0m eta \u001b[36m0:00:00\u001b[0m\n",
            "\u001b[2K   \u001b[90m━━━━━━━━━━━━━━━━━━━━━━━━━━━━━━━━━━━━━━━━\u001b[0m \u001b[32m2.5/2.5 MB\u001b[0m \u001b[31m16.1 MB/s\u001b[0m eta \u001b[36m0:00:00\u001b[0m\n",
            "\u001b[2K   \u001b[90m━━━━━━━━━━━━━━━━━━━━━━━━━━━━━━━━━━━━━━━━\u001b[0m \u001b[32m154.8/154.8 kB\u001b[0m \u001b[31m5.2 MB/s\u001b[0m eta \u001b[36m0:00:00\u001b[0m\n",
            "\u001b[2K   \u001b[90m━━━━━━━━━━━━━━━━━━━━━━━━━━━━━━━━━━━━━━━━\u001b[0m \u001b[32m42.0/42.0 kB\u001b[0m \u001b[31m1.4 MB/s\u001b[0m eta \u001b[36m0:00:00\u001b[0m\n",
            "\u001b[2K   \u001b[90m━━━━━━━━━━━━━━━━━━━━━━━━━━━━━━━━━━━━━━━━\u001b[0m \u001b[32m43.9/43.9 kB\u001b[0m \u001b[31m2.4 MB/s\u001b[0m eta \u001b[36m0:00:00\u001b[0m\n",
            "\u001b[2K   \u001b[90m━━━━━━━━━━━━━━━━━━━━━━━━━━━━━━━━━━━━━━━━\u001b[0m \u001b[32m56.8/56.8 kB\u001b[0m \u001b[31m2.6 MB/s\u001b[0m eta \u001b[36m0:00:00\u001b[0m\n",
            "\u001b[2K   \u001b[90m━━━━━━━━━━━━━━━━━━━━━━━━━━━━━━━━━━━━━━━━\u001b[0m \u001b[32m64.7/64.7 kB\u001b[0m \u001b[31m2.3 MB/s\u001b[0m eta \u001b[36m0:00:00\u001b[0m\n",
            "\u001b[2K   \u001b[90m━━━━━━━━━━━━━━━━━━━━━━━━━━━━━━━━━━━━━━━━\u001b[0m \u001b[32m50.9/50.9 kB\u001b[0m \u001b[31m2.0 MB/s\u001b[0m eta \u001b[36m0:00:00\u001b[0m\n",
            "\u001b[2K   \u001b[90m━━━━━━━━━━━━━━━━━━━━━━━━━━━━━━━━━━━━━━━━\u001b[0m \u001b[32m216.7/216.7 kB\u001b[0m \u001b[31m8.6 MB/s\u001b[0m eta \u001b[36m0:00:00\u001b[0m\n",
            "\u001b[?25h\u001b[31mERROR: pip's dependency resolver does not currently take into account all the packages that are installed. This behaviour is the source of the following dependency conflicts.\n",
            "google-colab 1.0.0 requires requests==2.32.4, but you have requests 2.32.5 which is incompatible.\u001b[0m\u001b[31m\n",
            "\u001b[0m"
          ]
        }
      ],
      "source": [
        "!pip -qq install -U langchain langchain-community langgraph pydantic google-ai-generativelanguage==0.6.15 langchain-google-genai"
      ]
    },
    {
      "cell_type": "code",
      "source": [
        "import os\n",
        "import operator\n",
        "from typing import Annotated, Literal\n",
        "from typing_extensions import TypedDict\n",
        "from pydantic import BaseModel\n",
        "\n",
        "from langgraph.graph import StateGraph, MessagesState, START, END\n",
        "from langgraph.prebuilt import ToolNode\n",
        "from langgraph.graph.message import add_messages\n",
        "from langgraph.types import Command\n",
        "\n",
        "from langchain_google_genai import ChatGoogleGenerativeAI\n",
        "from langchain.chat_models import init_chat_model\n",
        "from langchain_core.messages import AnyMessage, HumanMessage\n",
        "\n",
        "from google.colab import userdata\n",
        "\n",
        "GOOGLE_API_KEY = userdata.get('GOOGLE_API_KEY')"
      ],
      "metadata": {
        "id": "Q8K5uePIzUdj"
      },
      "execution_count": null,
      "outputs": []
    },
    {
      "cell_type": "markdown",
      "source": [
        "## Prompt Chaining"
      ],
      "metadata": {
        "id": "iE5SRMg93BL_"
      }
    },
    {
      "cell_type": "code",
      "source": [
        "# Define LLM client\n",
        "llm = ChatGoogleGenerativeAI(\n",
        "    model=\"gemini-2.0-flash\",\n",
        "    api_key=GOOGLE_API_KEY,\n",
        "    system_instruction=\"\"\"You are an expert technical writer. Always give clear,\n",
        "     concise, and straight-to-the-point answers.\"\"\"\n",
        ")\n",
        "\n",
        "# Define the graph state\n",
        "class State(dict):\n",
        "    text: str\n",
        "    topics: str\n",
        "    title: str\n",
        "\n",
        "# Define nodes (steps)\n",
        "def extract_topics(state: State) -> State:\n",
        "    prompt = f\"Extract 1-3 key topics from the following text:\\n\\n{state['text']}\"\n",
        "    resp = llm.invoke(prompt)\n",
        "    state[\"topics\"] = resp.content.strip()\n",
        "    return state\n",
        "\n",
        "def generate_title(state: State) -> State:\n",
        "    prompt = f\"Generate two catchy blog titles for each one these topics:\\n\\n{state['topics']}\"\n",
        "    resp = llm.invoke(prompt)\n",
        "    state[\"title\"] = resp.content.strip()\n",
        "    return state\n",
        "\n",
        "# Build the graph\n",
        "workflow = StateGraph(State)\n",
        "workflow.add_node(\"extract_topics\", extract_topics)\n",
        "workflow.add_node(\"generate_title\", generate_title)\n",
        "\n",
        "# Flow: extract_topics → generate_title → END\n",
        "workflow.set_entry_point(\"extract_topics\")\n",
        "workflow.add_edge(\"extract_topics\", \"generate_title\")\n",
        "workflow.add_edge(\"generate_title\", END)\n",
        "\n",
        "# Compile runnable graph\n",
        "graph = workflow.compile()"
      ],
      "metadata": {
        "id": "9YFBnb7YyD_A"
      },
      "execution_count": null,
      "outputs": []
    },
    {
      "cell_type": "code",
      "source": [
        "graph"
      ],
      "metadata": {
        "colab": {
          "base_uri": "https://localhost:8080/",
          "height": 350
        },
        "id": "OrctjJ2_z74m",
        "outputId": "28dbc25d-8caf-434b-9762-a46bd253eb52"
      },
      "execution_count": null,
      "outputs": [
        {
          "output_type": "execute_result",
          "data": {
            "text/plain": [
              "<langgraph.graph.state.CompiledStateGraph object at 0x78cfa09331d0>"
            ],
            "image/png": "[encoded data removed]"
          },
          "metadata": {},
          "execution_count": 25
        }
      ]
    },
    {
      "cell_type": "code",
      "source": [
        "# Run the graph\n",
        "input_text = (\n",
        "    \"LangGraph introduces a graph-based paradigm for building LLM-powered agents. \"\n",
        "    \"It allows developers to create modular, debuggable, and reliable agent workflows \"\n",
        "    \"using nodes, edges, and state passing.\"\n",
        ")\n",
        "\n",
        "result = graph.invoke({\"text\": input_text})\n",
        "print(\"Topics:\", result[\"topics\"])\n",
        "print(\"\\n\"+\"=\"*50+\"\\n\")\n",
        "print(\"Suggested Blog Title:\", result[\"title\"])"
      ],
      "metadata": {
        "colab": {
          "base_uri": "https://localhost:8080/"
        },
        "id": "HqibTKZgyD8F",
        "outputId": "e23ff072-47ad-42eb-fac7-176d7ba661ef"
      },
      "execution_count": null,
      "outputs": [
        {
          "output_type": "stream",
          "name": "stdout",
          "text": [
            "Topics: Here are 3 key topics extracted from the text:\n",
            "\n",
            "1.  **Graph-based LLM Agents:** The core concept of using a graph structure to build LLM agents.\n",
            "2.  **Modularity, Debuggability, and Reliability:** The benefits of using LangGraph for agent development.\n",
            "3.  **Nodes, Edges, and State Passing:** The fundamental components of the LangGraph framework.\n",
            "\n",
            "==================================================\n",
            "\n",
            "Suggested Blog Title: Okay, here are two catchy blog titles for each of the three topics, aiming for a mix of clarity and intrigue:\n",
            "\n",
            "**1. Graph-based LLM Agents:**\n",
            "\n",
            "*   **Title 1:** Unleashing the Power of Graph Minds: Building Smarter LLM Agents\n",
            "*   **Title 2:** Beyond Chains: How Graph-Based Agents are Revolutionizing LLMs\n",
            "\n",
            "**2. Modularity, Debuggability, and Reliability:**\n",
            "\n",
            "*   **Title 1:** LangGraph: The Secret to Building Reliable and Debuggable LLM Agents\n",
            "*   **Title 2:** Stop Chasing Bugs: LangGraph's Modular Approach to LLM Agent Development\n",
            "\n",
            "**3. Nodes, Edges, and State Passing:**\n",
            "\n",
            "*   **Title 1:** LangGraph Demystified: Nodes, Edges, and the Flow of Intelligent Conversations\n",
            "*   **Title 2:** Building Blocks of Brilliance: Mastering Nodes, Edges, and State in LangGraph\n"
          ]
        }
      ]
    },
    {
      "cell_type": "markdown",
      "source": [
        "## Routing"
      ],
      "metadata": {
        "id": "evhJMyUy3GJO"
      }
    },
    {
      "cell_type": "code",
      "source": [
        "# LLM client\n",
        "llm = ChatGoogleGenerativeAI(\n",
        "    model=\"gemini-2.0-flash\",\n",
        "    api_key=GOOGLE_API_KEY,\n",
        "    system_instruction=\"\"\"You are a helpful assistant that can classify text\n",
        "    sentiment and respond accordingly.\"\"\"\n",
        ")\n",
        "\n",
        "# State definition\n",
        "class State(dict):\n",
        "    text: str\n",
        "    sentiment: str\n",
        "    response: str\n",
        "\n",
        "# Nodes\n",
        "def calssification(state: State) -> str:\n",
        "    \"\"\"Classify sentiment.\"\"\"\n",
        "    prompt = f\"Is the following text positive or negative? Answer with one word only: Positive or Negative.\\n\\n{state['text']}\"\n",
        "    resp = llm.invoke(prompt)\n",
        "    sentiment = resp.content.strip().lower()\n",
        "    state[\"sentiment\"] = sentiment\n",
        "    return state\n",
        "\n",
        "def positive_node(state: State) -> State:\n",
        "    prompt = f\"Generate an encouraging reply to this positive text:\\n\\n{state['text']}\"\n",
        "    resp = llm.invoke(prompt)\n",
        "    state[\"response\"] = resp.content.strip()\n",
        "    return state\n",
        "\n",
        "def negative_node(state: State) -> State:\n",
        "    prompt = f\"Generate a supportive reply to this negative text:\\n\\n{state['text']}\"\n",
        "    resp = llm.invoke(prompt)\n",
        "    state[\"response\"] = resp.content.strip()\n",
        "    return state\n",
        "\n",
        "def router_func(state: State) -> Literal[\"positive\", \"negative\"]:\n",
        "    \"\"\"Return next node name.\"\"\"\n",
        "    return \"positive\" if \"positive\" in state[\"sentiment\"] else \"negative\"\n",
        "\n",
        "# Build the graph\n",
        "workflow = StateGraph(State)\n",
        "\n",
        "workflow.add_node(\"calssification\", calssification)\n",
        "workflow.add_node(\"positive\", positive_node)\n",
        "workflow.add_node(\"negative\", negative_node)\n",
        "\n",
        "# classify node decides the next step\n",
        "workflow.set_entry_point(\"calssification\")\n",
        "workflow.add_conditional_edges(\"calssification\", router_func, {\n",
        "    \"positive\": \"positive\",\n",
        "    \"negative\": \"negative\",\n",
        "})\n",
        "\n",
        "# Both branches lead to END\n",
        "workflow.add_edge(\"positive\", END)\n",
        "workflow.add_edge(\"negative\", END)\n",
        "\n",
        "graph = workflow.compile()"
      ],
      "metadata": {
        "id": "IJZyJZDLyD5J"
      },
      "execution_count": null,
      "outputs": []
    },
    {
      "cell_type": "code",
      "source": [
        "graph"
      ],
      "metadata": {
        "id": "TbcEouy74jZW"
      },
      "execution_count": null,
      "outputs": []
    },
    {
      "cell_type": "code",
      "source": [
        "# Run example\n",
        "input_text = \"I'm so happy with how my project turned out!\"\n",
        "result = graph.invoke({\"text\": input_text})\n",
        "print(\"Sentiment:\", result[\"sentiment\"])\n",
        "print(\"Response:\", result[\"response\"])"
      ],
      "metadata": {
        "colab": {
          "base_uri": "https://localhost:8080/"
        },
        "id": "81H7kY8UyD2d",
        "outputId": "b5f3dc9a-b557-4e20-8b11-82fc0b15b07d"
      },
      "execution_count": null,
      "outputs": [
        {
          "output_type": "stream",
          "name": "stdout",
          "text": [
            "Sentiment: positive\n",
            "Response: That's fantastic to hear! So glad you're happy with how your project turned out. All your hard work really paid off! What are you most proud of?\n"
          ]
        }
      ]
    },
    {
      "cell_type": "markdown",
      "source": [
        "## Parallelization"
      ],
      "metadata": {
        "id": "si4pQYHuLbtC"
      }
    },
    {
      "cell_type": "code",
      "source": [
        "# LLM client\n",
        "llm = ChatGoogleGenerativeAI(\n",
        "    model=\"gemini-2.0-flash\",\n",
        "    api_key=GOOGLE_API_KEY,\n",
        ")\n",
        "\n",
        "# State definition\n",
        "class State(TypedDict):\n",
        "    text: str\n",
        "    # Reducer makes these append-only so multiple nodes can update in parallel\n",
        "    outputs: Annotated[list, operator.add]\n",
        "\n",
        "# Nodes\n",
        "def summarize(state: State):\n",
        "    prompt = f\"Summarize in one sentence:\\n\\n{state['text']}\"\n",
        "    resp = llm.invoke(prompt)\n",
        "    return {\"outputs\": [f\"Summary: {resp.content.strip()}\"]}\n",
        "\n",
        "def critique(state: State):\n",
        "    prompt = f\"Critique briefly:\\n\\n{state['text']}\"\n",
        "    resp = llm.invoke(prompt)\n",
        "    return {\"outputs\": [f\"Critique: {resp.content.strip()}\"]}\n",
        "\n",
        "def combine(state: State):\n",
        "    prompt = f\"Combine the following Critique and Summarization in one \\\n",
        "    paragraph:\\n\\n{state['text']}\"\n",
        "    resp = llm.invoke(prompt)\n",
        "    return {\"outputs\": [f\"Combined:\\n{resp.content.strip()}\"]}\n",
        "\n",
        "# Build the graph\n",
        "builder = StateGraph(State)\n",
        "builder.add_node(\"summarize\", summarize)\n",
        "builder.add_node(\"critique\", critique)\n",
        "builder.add_node(\"combine\", combine)\n",
        "\n",
        "# Parallel edges: summarize and critique run side by side\n",
        "builder.add_edge(START, \"summarize\")\n",
        "builder.add_edge(START, \"critique\")\n",
        "\n",
        "# Both join into combine\n",
        "builder.add_edge(\"summarize\", \"combine\")\n",
        "builder.add_edge(\"critique\", \"combine\")\n",
        "\n",
        "builder.add_edge(\"combine\", END)\n",
        "\n",
        "graph = builder.compile()"
      ],
      "metadata": {
        "id": "DGmUR-2E4hUJ"
      },
      "execution_count": null,
      "outputs": []
    },
    {
      "cell_type": "code",
      "source": [
        "graph"
      ],
      "metadata": {
        "colab": {
          "base_uri": "https://localhost:8080/",
          "height": 350
        },
        "id": "RSStgkGMPGPI",
        "outputId": "9c7d7b4f-a180-4e86-d64d-9b429ae1554e"
      },
      "execution_count": null,
      "outputs": [
        {
          "output_type": "execute_result",
          "data": {
            "text/plain": [
              "<langgraph.graph.state.CompiledStateGraph object at 0x7b3664e36e70>"
            ],
            "image/png": "[encoded data removed]"
          },
          "metadata": {},
          "execution_count": 16
        }
      ]
    },
    {
      "cell_type": "code",
      "source": [
        "# --- Run example ---\n",
        "input_text = \"LangGraph helps developers design and run agent workflows with LLMs.\"\n",
        "result = graph.invoke({\"text\": input_text, \"outputs\": []})\n",
        "\n",
        "print(\"\\nFinal outputs:\")\n",
        "for out in result[\"outputs\"]:\n",
        "    print(out)\n",
        "    print(\"=\"*100 + \"\\n\")"
      ],
      "metadata": {
        "colab": {
          "base_uri": "https://localhost:8080/"
        },
        "id": "dXGllGr-yDzh",
        "outputId": "f4eb15f8-e525-4d05-ce89-5f8c1b68c1bb"
      },
      "execution_count": null,
      "outputs": [
        {
          "output_type": "stream",
          "name": "stdout",
          "text": [
            "\n",
            "Final outputs:\n",
            "Critique: The statement is accurate and concise, but lacks detail and context. Here's a brief critique, highlighting its strengths and weaknesses:\n",
            "\n",
            "**Strengths:**\n",
            "\n",
            "*   **Accurate:** It correctly identifies LangGraph's primary function.\n",
            "*   **Concise:** It's a short and to-the-point description.\n",
            "\n",
            "**Weaknesses:**\n",
            "\n",
            "*   **Lacks Specificity:** Doesn't explain *how* LangGraph helps, what kind of workflows, or its advantages.\n",
            "*   **Missing Context:** Assumes the reader knows what \"agent workflows\" and \"LLMs\" are.\n",
            "*   **Doesn't Highlight Value Proposition:** Doesn't mention benefits like improved reliability, observability, or scalability.\n",
            "\n",
            "**In essence, it's a functional description, not a compelling one.** It tells you *what* LangGraph does, but not *why* it's useful or *how* it's different.\n",
            "====================================================================================================\n",
            "\n",
            "Summary: LangGraph is a framework for building multi-actor workflows powered by large language models.\n",
            "====================================================================================================\n",
            "\n",
            "Combined:\n",
            "LangGraph provides a powerful framework for developers to construct and execute complex agent workflows powered by Large Language Models (LLMs). In essence, it simplifies the process of building sophisticated AI agents that can interact with various tools and data sources to achieve specific goals. While the provided information is concise, it lacks detail regarding the specific functionalities and advantages offered by LangGraph, such as its capabilities for managing state, handling errors, or optimizing performance, which would be crucial for a comprehensive understanding and evaluation of the tool.\n",
            "====================================================================================================\n",
            "\n"
          ]
        }
      ]
    },
    {
      "cell_type": "markdown",
      "source": [
        "## Reflection"
      ],
      "metadata": {
        "id": "0TuFvbNIRscx"
      }
    },
    {
      "cell_type": "code",
      "source": [
        "# LLM client\n",
        "llm = ChatGoogleGenerativeAI(\n",
        "    model=\"gemini-2.0-flash\",\n",
        "    api_key=GOOGLE_API_KEY,\n",
        ")\n",
        "\n",
        "# State\n",
        "class State(TypedDict):\n",
        "    task: str\n",
        "    draft: str\n",
        "    feedback: str\n",
        "    final: str\n",
        "\n",
        "# Nodes\n",
        "def generator(state: State):\n",
        "    \"\"\"Generate an initial or refined draft.\"\"\"\n",
        "    prompt = f\"\"\"\n",
        "You are an assistant helping to complete the following task:\n",
        "\n",
        "Task:\n",
        "{state['task']}\n",
        "\n",
        "Current Draft:\n",
        "{state.get('draft', 'None')}\n",
        "\n",
        "Feedback:\n",
        "{state.get('feedback', 'None')}\n",
        "\n",
        "Instructions:\n",
        "- If there is no draft and no feedback, generate a clear and complete response to the task.\n",
        "- If there is a draft but no feedback, improve the draft as needed for clarity and quality.\n",
        "- If there is both a draft and feedback, revise the draft by incorporating the feedback directly.\n",
        "- Always produce a single, improved draft as your output.\n",
        "\"\"\"\n",
        "    resp = llm.invoke(prompt)\n",
        "    return {\"draft\": resp.content.strip()}\n",
        "\n",
        "def evaluator(state: State):\n",
        "    \"\"\"Evaluate the draft and give feedback or approval.\"\"\"\n",
        "    prompt = f\"\"\"Evaluate the following draft, based on the given task.\n",
        "If it meets the requirements, reply exactly 'APPROVED'.\n",
        "Otherwise, provide constructive feedback for improvement.\n",
        "Task:\n",
        "{state['task']}\n",
        "Draft:\n",
        "{state['draft']}\"\"\"\n",
        "    resp = llm.invoke(prompt)\n",
        "    print(f\"\"\"\n",
        "================= DRAFT =================\n",
        "{state['draft']}\n",
        "\n",
        "================ FEEDBACK ===============\n",
        "{resp.content.strip()}\n",
        "========================================\n",
        "\"\"\")\n",
        "    return {\"feedback\": resp.content.strip()}\n",
        "\n",
        "def decide(state: State) -> str:\n",
        "    \"\"\"Decide next step: either approve and finish, or refine again.\"\"\"\n",
        "    if \"APPROVED\" in state[\"feedback\"].upper():\n",
        "        return \"approved\"\n",
        "    return \"refine\"\n",
        "\n",
        "def finalize(state: State):\n",
        "    \"\"\"Save the final approved draft.\"\"\"\n",
        "    return {\"final\": state[\"draft\"]}\n",
        "\n",
        "# Build the graph\n",
        "builder = StateGraph(State)\n",
        "\n",
        "builder.add_node(\"generator\", generator)\n",
        "builder.add_node(\"evaluator\", evaluator)\n",
        "builder.add_node(\"finalize\", finalize)\n",
        "\n",
        "builder.add_edge(START, \"generator\")\n",
        "builder.add_edge(\"generator\", \"evaluator\")\n",
        "builder.add_edge(\"evaluator\", \"finalize\")\n",
        "\n",
        "# Conditional edges from decide\n",
        "builder.add_conditional_edges(\n",
        "    \"evaluator\",\n",
        "    decide,\n",
        "    {\n",
        "        \"approved\": \"finalize\",   # stop loop\n",
        "        \"refine\": \"generator\",    # go back for improvement\n",
        "    },\n",
        ")\n",
        "\n",
        "builder.add_edge(\"finalize\", END)\n",
        "\n",
        "graph = builder.compile()"
      ],
      "metadata": {
        "id": "BINWaCBEyDwt"
      },
      "execution_count": null,
      "outputs": []
    },
    {
      "cell_type": "code",
      "source": [
        "graph"
      ],
      "metadata": {
        "colab": {
          "base_uri": "https://localhost:8080/",
          "height": 473
        },
        "id": "hbdarnpERyx2",
        "outputId": "1065259e-b830-4ae1-e517-1c83afcc34e0"
      },
      "execution_count": null,
      "outputs": [
        {
          "output_type": "execute_result",
          "data": {
            "text/plain": [
              "<langgraph.graph.state.CompiledStateGraph object at 0x7b3641d9dc40>"
            ],
            "image/png": "[encoded data removed]"
          },
          "metadata": {},
          "execution_count": 39
        }
      ]
    },
    {
      "cell_type": "code",
      "source": [
        "# Run example\n",
        "input_task = \"You have six horses and want to race them to see which is fastest. What is the best way to do this?\"\n",
        "result = graph.invoke({\"task\": input_task})\n",
        "\n",
        "print(\"\\nFinal Answer:\\n\", result[\"final\"])"
      ],
      "metadata": {
        "colab": {
          "base_uri": "https://localhost:8080/"
        },
        "id": "Q4tNbo94RvOM",
        "outputId": "b46379b6-63e6-49e6-e824-bd4d1de25517"
      },
      "execution_count": null,
      "outputs": [
        {
          "output_type": "stream",
          "name": "stdout",
          "text": [
            "\n",
            "================= DRAFT =================\n",
            "Here's a strategy to determine the fastest horse out of six, minimizing the number of races required:\n",
            "\n",
            "1. **Initial Races:** Divide the six horses into two groups of three. Race each group. Label the horses A1, A2, A3 (with A1 being the fastest in the first race, A2 second, and A3 third) and B1, B2, B3 (similarly ranked from the second race).\n",
            "\n",
            "2. **Race of the Winners:** Race the winners of the two initial races (A1 and B1). The winner of this race is the fastest horse overall. Let's say A1 wins.\n",
            "\n",
            "3. **Determining Second Fastest:** The second fastest horse could be either B1 (the horse that lost to A1 in the winners' race) or A2 (the second-place horse from the race that A1 won). Race B1 and A2. The winner of *this* race is the second-fastest horse overall.\n",
            "\n",
            "Therefore, this method requires a total of three races.\n",
            "\n",
            "================ FEEDBACK ===============\n",
            "The draft is incorrect. While it identifies the fastest horse correctly, it fails to reliably identify the second-fastest horse.\n",
            "\n",
            "Here's why and how to improve it:\n",
            "\n",
            "The logic in step 3 is flawed. The second-fastest horse could be B1, A2, *or* possibly even A3 if A1 and A2 were significantly faster in their initial race than B1, B2, and B3.  Since we only have ordinal data (rankings within a race), not interval data (relative speed differences), we can't rule out A3.\n",
            "\n",
            "Here's a corrected strategy requiring more races:\n",
            "\n",
            "1. **Initial Races:** Divide the six horses into two groups of three. Race each group. Label the horses A1, A2, A3 (with A1 being the fastest in the first race, A2 second, and A3 third) and B1, B2, B3 (similarly ranked from the second race).\n",
            "\n",
            "2. **Race of the Winners:** Race the winners of the two initial races (A1 and B1). The winner of this race is the fastest horse overall. Let's say A1 wins.\n",
            "\n",
            "3. **Determining Second Fastest:** The second fastest horse could be either B1 (the horse that lost to A1 in the winners' race), A2 (the second-place horse from the race that A1 won), or B2 (the second place horse from the race that B1 won). Race B1, A2, and B2. The winner of *this* race is the second-fastest horse overall.\n",
            "\n",
            "Therefore, this revised method requires a total of three races. But this isn't the *best* method. A better method that guarantees finding the fastest horse is:\n",
            "\n",
            "1. **Initial Races:** Divide the six horses into two groups of three. Race each group. Label the horses A1, A2, A3 (with A1 being the fastest in the first race, A2 second, and A3 third) and B1, B2, B3 (similarly ranked from the second race).\n",
            "\n",
            "2. **Race of the Winners:** Race the winners of the two initial races (A1 and B1). The winner of this race is the fastest horse overall. Let's say A1 wins.\n",
            "\n",
            "3. **Race for 2nd Place**: The second fastest horse could be B1 (the horse that lost to A1 in the winners' race), A2 (the second-place horse from the race that A1 won) or B2 (the second-place horse from the race that B1 won). Race these three horses. The winner of this race is the second-fastest horse overall.\n",
            "\n",
            "This also requires three races, but is a more robust solution than the original. However, a better solution exists:\n",
            "\n",
            "1. **Race all horses together.**\n",
            "\n",
            "This requires only one race, and will identify the fastest horse.\n",
            "\n",
            "Revised Answer:\n",
            "\n",
            "The provided strategy is flawed. It correctly identifies the fastest horse but fails to guarantee finding the second-fastest. A better approach is simply to race all six horses together in a single race. The horse that wins is the fastest.\n",
            "\n",
            "IMPROVEMENT NEEDED\n",
            "========================================\n",
            "\n",
            "\n",
            "================= DRAFT =================\n",
            "Here's a strategy to determine the fastest horse out of six. The most efficient approach is:\n",
            "\n",
            "1. **Race all six horses together.**\n",
            "\n",
            "The horse that wins this single race is definitively the fastest.\n",
            "\n",
            "While other strategies exist that involve multiple preliminary races, they are unnecessary. For instance, one could divide the horses into groups, race those groups, and then race the winners. However, this requires more races than simply racing all horses together. Similarly, attempting to determine the *second* fastest horse complicates the process and requires additional races. To strictly determine the *fastest* horse, a single race is the most efficient solution.\n",
            "\n",
            "================ FEEDBACK ===============\n",
            "APPROVED\n",
            "========================================\n",
            "\n",
            "\n",
            "Final Answer:\n",
            " Here's a strategy to determine the fastest horse out of six. The most efficient approach is:\n",
            "\n",
            "1. **Race all six horses together.**\n",
            "\n",
            "The horse that wins this single race is definitively the fastest.\n",
            "\n",
            "While other strategies exist that involve multiple preliminary races, they are unnecessary. For instance, one could divide the horses into groups, race those groups, and then race the winners. However, this requires more races than simply racing all horses together. Similarly, attempting to determine the *second* fastest horse complicates the process and requires additional races. To strictly determine the *fastest* horse, a single race is the most efficient solution.\n"
          ]
        }
      ]
    },
    {
      "cell_type": "markdown",
      "source": [
        "## Tool Use"
      ],
      "metadata": {
        "id": "54rn97Vgar6O"
      }
    },
    {
      "cell_type": "code",
      "source": [
        "# State definition\n",
        "class State(TypedDict):\n",
        "    messages: Annotated[list[AnyMessage], add_messages]\n",
        "\n",
        "# Define a simple tool\n",
        "def calculator(expression: str):\n",
        "    \"\"\"Evaluate a math expression.\"\"\"\n",
        "    try:\n",
        "        return str(eval(expression))\n",
        "    except Exception as e:\n",
        "        return f\"Error: {e}\"\n",
        "\n",
        "# Initialize Gemini model with tools\n",
        "llm = ChatGoogleGenerativeAI(\n",
        "    model=\"gemini-2.0-flash\",\n",
        "    api_key=GOOGLE_API_KEY,\n",
        ")\n",
        "\n",
        "model_with_tools = llm.bind_tools([calculator])\n",
        "tool_node = ToolNode([calculator])\n",
        "\n",
        "# Nodes\n",
        "def call_model(state: State):\n",
        "    \"\"\"Call the model; it may request a tool.\"\"\"\n",
        "    messages = state[\"messages\"]\n",
        "    response = model_with_tools.invoke(messages)\n",
        "    return {\"messages\": [response]}\n",
        "\n",
        "def should_continue(state: State):\n",
        "    \"\"\"Decide whether to go to tools or finish.\"\"\"\n",
        "    messages = state[\"messages\"]\n",
        "    last_message = messages[-1]\n",
        "    if last_message.tool_calls:  # If the model requested a tool\n",
        "        return \"tools\"\n",
        "    return END\n",
        "\n",
        "# Build the graph\n",
        "builder = StateGraph(State)\n",
        "\n",
        "builder.add_node(\"call_model\", call_model)\n",
        "builder.add_node(\"tools\", tool_node)\n",
        "\n",
        "builder.add_edge(START, \"call_model\")\n",
        "builder.add_conditional_edges(\"call_model\", should_continue, [\"tools\", END])\n",
        "builder.add_edge(\"tools\", \"call_model\")\n",
        "\n",
        "graph = builder.compile()"
      ],
      "metadata": {
        "id": "PBX1By85RvLv"
      },
      "execution_count": null,
      "outputs": []
    },
    {
      "cell_type": "code",
      "source": [
        "graph"
      ],
      "metadata": {
        "colab": {
          "base_uri": "https://localhost:8080/",
          "height": 266
        },
        "id": "XHdHseeWf_Bo",
        "outputId": "d4697e0c-601e-42a8-bf45-0219907d9b21"
      },
      "execution_count": null,
      "outputs": [
        {
          "output_type": "execute_result",
          "data": {
            "text/plain": [
              "<langgraph.graph.state.CompiledStateGraph object at 0x7b3641abbc20>"
            ],
            "image/png": "[encoded data removed]"
          },
          "metadata": {},
          "execution_count": 57
        }
      ]
    },
    {
      "cell_type": "code",
      "source": [
        "# Run example\n",
        "query = {\"role\": \"user\", \"content\": \"What is 12 * 7?\"}\n",
        "result = graph.invoke({\"messages\": [query]})\n",
        "\n",
        "print(\"\\nConversation:\")\n",
        "for m in result[\"messages\"]:\n",
        "    print(m)"
      ],
      "metadata": {
        "colab": {
          "base_uri": "https://localhost:8080/"
        },
        "id": "OQ9LX73JarXx",
        "outputId": "4a6191b3-e41d-4435-b5cc-878b16982913"
      },
      "execution_count": null,
      "outputs": [
        {
          "output_type": "stream",
          "name": "stdout",
          "text": [
            "\n",
            "Conversation:\n",
            "content='What is 12 * 7?' additional_kwargs={} response_metadata={} id='5ceeda02-510d-4bad-849a-759212097013'\n",
            "content='' additional_kwargs={'function_call': {'name': 'calculator', 'arguments': '{\"expression\": \"12 * 7\"}'}} response_metadata={'prompt_feedback': {'block_reason': 0, 'safety_ratings': []}, 'finish_reason': 'STOP', 'safety_ratings': []} id='run--b8c8ab73-5082-47c0-9bd9-8e46b2ae3ad1-0' tool_calls=[{'name': 'calculator', 'args': {'expression': '12 * 7'}, 'id': '662e4855-57d9-4304-be72-923b453c8577', 'type': 'tool_call'}] usage_metadata={'input_tokens': 19, 'output_tokens': 7, 'total_tokens': 26, 'input_token_details': {'cache_read': 0}}\n",
            "content='84' name='calculator' id='6354a43a-c65e-44b2-84b5-2a575a7b3cf2' tool_call_id='662e4855-57d9-4304-be72-923b453c8577'\n",
            "content='The answer is 84.' additional_kwargs={} response_metadata={'prompt_feedback': {'block_reason': 0, 'safety_ratings': []}, 'finish_reason': 'STOP', 'safety_ratings': []} id='run--dd0f2241-aab6-4412-bd78-c36a79038328-0' usage_metadata={'input_tokens': 29, 'output_tokens': 8, 'total_tokens': 37, 'input_token_details': {'cache_read': 0}}\n"
          ]
        }
      ]
    },
    {
      "cell_type": "markdown",
      "source": [
        "## Planning\n",
        "\n",
        "Simulated workers and response for brevity, but in real application, workers would be react agents or more complex workflows.\n",
        "\n",
        "The key difference from Routing is that the Planner generates a multi-step plan rather than selecting a single next step."
      ],
      "metadata": {
        "id": "TKSFYd8nmmRt"
      }
    },
    {
      "cell_type": "code",
      "source": [
        "# Set up the Language Model\n",
        "llm = ChatGoogleGenerativeAI(\n",
        "    model=\"gemini-2.0-flash\",\n",
        "    api_key=GOOGLE_API_KEY,\n",
        ")\n",
        "\n",
        "# Define the State\n",
        "# We need separate fields for each worker's results.\n",
        "class PlannerState(TypedDict):\n",
        "    task: str\n",
        "    plan: list[str]\n",
        "    graphql_results: str  # Results from the GraphQL researcher\n",
        "    rest_results: str     # Results from the REST researcher\n",
        "    final_output: str     # The final written summary\n",
        "\n",
        "# Define the Tools and Workers\n",
        "\n",
        "# Dummy tools for our researchers\n",
        "def graphql_search_tool(query: str):\n",
        "    \"\"\"A dummy tool that returns fixed info about GraphQL.\"\"\"\n",
        "    print(f\"GRAPHQL RESEARCHER: Searching for '{query}'\")\n",
        "    return \"GraphQL Pros: Efficient data fetching (no over-fetching), single endpoint, strongly typed schema.\"\n",
        "\n",
        "def rest_search_tool(query: str):\n",
        "    \"\"\"A dummy tool that returns fixed info about REST.\"\"\"\n",
        "    print(f\"REST RESEARCHER: Searching for '{query}'\")\n",
        "    return \"REST API Cons: Can lead to over or under-fetching data, requires multiple round-trips for complex queries, URL-based structure can be rigid.\"\n",
        "\n",
        "# Worker Nodes\n",
        "def graphql_research_worker(state: PlannerState):\n",
        "    \"\"\"Worker node that researches GraphQL pros.\"\"\"\n",
        "    results = graphql_search_tool(\"pros of GraphQL\")\n",
        "    return {\"graphql_results\": results}\n",
        "\n",
        "def rest_research_worker(state: PlannerState):\n",
        "    \"\"\"Worker node that researches REST cons.\"\"\"\n",
        "    results = rest_search_tool(\"cons of REST APIs\")\n",
        "    return {\"rest_results\": results}\n",
        "\n",
        "def writer_worker(state: PlannerState):\n",
        "    \"\"\"\n",
        "    Synthesizer node that waits for all research and writes the final output.\n",
        "    This node acts as the \"join\" point.\n",
        "    \"\"\"\n",
        "    print(\"WRITER: Synthesizing results\")\n",
        "    graphql_results = state['graphql_results']\n",
        "    rest_results = state['rest_results']\n",
        "\n",
        "    writing_prompt = f\"\"\"\n",
        "    Write a short, balanced comparison post based on the following research.\n",
        "\n",
        "    GraphQL Information:\n",
        "    {graphql_results}\n",
        "\n",
        "    REST API Information:\n",
        "    {rest_results}\n",
        "    \"\"\"\n",
        "    response = llm.invoke(writing_prompt)\n",
        "    return {\"final_output\": response.content}\n",
        "\n",
        "# Define the Planner\n",
        "def planner(state: PlannerState):\n",
        "    \"\"\"Planner node that creates the initial plan.\"\"\"\n",
        "    print(\"PLANNER: Creating a plan for parallel execution\")\n",
        "    # For this example, the plan is hardcoded.\n",
        "    # In a real app, an LLM would generate this based on the task.\n",
        "    plan = [\n",
        "        \"Research GraphQL pros\",\n",
        "        \"Research REST cons\",\n",
        "        \"Write comparison post\"\n",
        "    ]\n",
        "    return {\"plan\": plan}\n",
        "\n",
        "# Build the Graph\n",
        "workflow = StateGraph(PlannerState)\n",
        "\n",
        "# Add the nodes\n",
        "workflow.add_node(\"planner\", planner)\n",
        "workflow.add_node(\"graphql_researcher\", graphql_research_worker)\n",
        "workflow.add_node(\"rest_researcher\", rest_research_worker)\n",
        "workflow.add_node(\"writer\", writer_worker)\n",
        "\n",
        "# Set the entry point\n",
        "workflow.set_entry_point(\"planner\")\n",
        "\n",
        "# Define the parallel edges\n",
        "# After the planner, both research workers are called.\n",
        "workflow.add_edge(\"planner\", \"graphql_researcher\")\n",
        "workflow.add_edge(\"planner\", \"rest_researcher\")\n",
        "\n",
        "# Define the join point\n",
        "# The writer will only run after BOTH research workers are complete.\n",
        "workflow.add_edge(\"graphql_researcher\", \"writer\")\n",
        "workflow.add_edge(\"rest_researcher\", \"writer\")\n",
        "\n",
        "# The graph ends after the writer is done\n",
        "workflow.add_edge(\"writer\", END)\n",
        "\n",
        "# Compile the graph\n",
        "graph = workflow.compile()"
      ],
      "metadata": {
        "id": "xSl8X46harWD"
      },
      "execution_count": null,
      "outputs": []
    },
    {
      "cell_type": "code",
      "source": [
        "graph"
      ],
      "metadata": {
        "colab": {
          "base_uri": "https://localhost:8080/",
          "height": 449
        },
        "id": "T6GDLlVhnbQF",
        "outputId": "0c2f61d0-63d4-489a-d733-b040566f9e12"
      },
      "execution_count": null,
      "outputs": [
        {
          "output_type": "execute_result",
          "data": {
            "text/plain": [
              "<langgraph.graph.state.CompiledStateGraph object at 0x7b3641a4e4b0>"
            ],
            "image/png": "[encoded data removed]"
          },
          "metadata": {},
          "execution_count": 83
        }
      ]
    },
    {
      "cell_type": "code",
      "source": [
        "# Run the Graph\n",
        "user_task = \"Write a short post comparing the pros of GraphQL with the cons of REST APIs.\"\n",
        "initial_state = {\"task\": user_task}\n",
        "\n",
        "# Stream the events to see the execution flow\n",
        "for event in graph.stream(initial_state):\n",
        "    for key, value in event.items():\n",
        "        print(f\"Node '{key}' output:\")\n",
        "        print(\"---\")\n",
        "        print(value)\n",
        "        print(\"\\n\" + \"=\"*30 + \"\\n\")\n",
        "\n",
        "# Get the final output\n",
        "final_state = graph.invoke(initial_state)\n",
        "print(\"Final Comparison Post:\")\n",
        "print(final_state['final_output'])"
      ],
      "metadata": {
        "colab": {
          "base_uri": "https://localhost:8080/"
        },
        "id": "bs7X70aqarTN",
        "outputId": "35498a81-39a6-4645-f807-56627b71c973"
      },
      "execution_count": null,
      "outputs": [
        {
          "output_type": "stream",
          "name": "stdout",
          "text": [
            "PLANNER: Creating a plan for parallel execution\n",
            "Node 'planner' output:\n",
            "---\n",
            "{'plan': ['Research GraphQL pros', 'Research REST cons', 'Write comparison post']}\n",
            "\n",
            "==============================\n",
            "\n",
            "GRAPHQL RESEARCHER: Searching for 'pros of GraphQL'\n",
            "Node 'graphql_researcher' output:\n",
            "---\n",
            "{'graphql_results': 'GraphQL Pros: Efficient data fetching (no over-fetching), single endpoint, strongly typed schema.'}\n",
            "\n",
            "==============================\n",
            "\n",
            "REST RESEARCHER: Searching for 'cons of REST APIs'\n",
            "Node 'rest_researcher' output:\n",
            "---\n",
            "{'rest_results': 'REST API Cons: Can lead to over or under-fetching data, requires multiple round-trips for complex queries, URL-based structure can be rigid.'}\n",
            "\n",
            "==============================\n",
            "\n",
            "WRITER: Synthesizing results\n",
            "Node 'writer' output:\n",
            "---\n",
            "{'final_output': '## GraphQL vs. REST: A Quick Comparison\\n\\nChoosing the right API architecture is crucial for efficient data handling. Both GraphQL and REST offer solutions, but cater to different needs and priorities.\\n\\n**GraphQL shines with its:**\\n\\n*   **Efficient Data Fetching:** GraphQL allows clients to request only the data they need, avoiding the common REST problem of over-fetching.\\n*   **Single Endpoint:** A single endpoint simplifies API interaction and management.\\n*   **Strongly Typed Schema:** The schema ensures data consistency and facilitates client-side development.\\n\\n**REST APIs, while well-established, can be less efficient due to:**\\n\\n*   **Over/Under-Fetching:** REST endpoints often return more or less data than required, leading to wasted bandwidth and unnecessary processing.\\n*   **Multiple Round-Trips:** Complex data requirements may necessitate multiple API calls, increasing latency.\\n*   **Rigid URL Structure:** The URL-based structure can be inflexible and challenging to adapt to evolving data needs.\\n\\n**In Conclusion:**\\n\\nGraphQL excels in scenarios demanding precise data retrieval and complex queries, while REST remains a viable option for simpler applications where performance is less critical. The best choice depends on the specific requirements and constraints of your project.'}\n",
            "\n",
            "==============================\n",
            "\n",
            "PLANNER: Creating a plan for parallel execution\n",
            "GRAPHQL RESEARCHER: Searching for 'pros of GraphQL'\n",
            "REST RESEARCHER: Searching for 'cons of REST APIs'\n",
            "WRITER: Synthesizing results\n",
            "Final Comparison Post:\n",
            "## GraphQL vs. REST APIs: A Quick Comparison\n",
            "\n",
            "Choosing the right API architecture is crucial for any web application. Two popular options are GraphQL and REST APIs, each with its own strengths and weaknesses. Here's a brief comparison:\n",
            "\n",
            "**GraphQL:**\n",
            "\n",
            "*   **Pros:** GraphQL excels at efficient data fetching. By allowing clients to request only the specific data they need, it eliminates the problem of over-fetching common in REST APIs. It also offers a single endpoint and a strongly typed schema, contributing to better developer experience and improved data validation.\n",
            "\n",
            "**REST APIs:**\n",
            "\n",
            "*   **Cons:** REST APIs can suffer from over or under-fetching, leading to inefficient data transfer. Complex queries often require multiple round-trips to different endpoints, increasing latency. Furthermore, its URL-based structure can sometimes feel rigid and inflexible.\n",
            "\n",
            "**In conclusion:**\n",
            "\n",
            "GraphQL shines when data efficiency and precise control over data fetching are paramount. REST APIs, while potentially less efficient in certain scenarios, are a well-established standard with a vast ecosystem of tools and resources. The best choice depends on the specific needs and complexity of your project.\n"
          ]
        }
      ]
    },
    {
      "cell_type": "markdown",
      "source": [
        "## Multi-agent\n",
        "\n",
        "In this example, we will use the `Command` Class instead of conditional edges, just to showcase that we can both update the graph state and route to a different node simultaniously.\n",
        "This is very useful when desining complex multi-agent architectures.\n"
      ],
      "metadata": {
        "id": "r97PjNnh24LW"
      }
    },
    {
      "cell_type": "code",
      "source": [
        "# Set up the Language Model\n",
        "llm = ChatGoogleGenerativeAI(\n",
        "    model=\"gemini-2.0-flash\",\n",
        "    api_key=GOOGLE_API_KEY,\n",
        ")\n",
        "\n",
        "# Define the Supervisor's Routing Logic\n",
        "\n",
        "# This Pydantic model helps the supervisor choose the next agent.\n",
        "class Router(BaseModel):\n",
        "    \"\"\"Decide the next agent to route to.\"\"\"\n",
        "    next_agent: Literal[\"Weather\", \"Flights\", \"__end__\"]\n",
        "\n",
        "# Bind the router to the model to get structured output.\n",
        "supervisor_model = llm.with_structured_output(Router)\n",
        "\n",
        "def supervisor(state: MessagesState) -> Command:\n",
        "    \"\"\"\n",
        "    The central supervisor that routes to the correct agent or ends the conversation.\n",
        "    \"\"\"\n",
        "    print(\"--- 🧑‍💼 SUPERVISOR ---\")\n",
        "\n",
        "    # The prompt tells the supervisor how to route the user's message.\n",
        "    prompt = f\"\"\"You are a supervisor routing tasks to a specialist agent.\n",
        "    Based on the user's request, choose the appropriate agent.\n",
        "\n",
        "    Available agents:\n",
        "    - Weather: For questions about weather forecasts.\n",
        "    - Flights: For questions about flight information.\n",
        "\n",
        "    If the user is saying thank you or the conversation is over, choose '__end__'.\n",
        "\n",
        "    User message: \"{state['messages'][-1].content}\"\n",
        "    \"\"\"\n",
        "    if isinstance(state['messages'][-1], HumanMessage):\n",
        "      # The supervisor model makes the routing decision.\n",
        "      response = supervisor_model.invoke(prompt)\n",
        "      print(f\"Supervisor routing to: {response.next_agent}\")\n",
        "      return Command(goto=response.next_agent)\n",
        "    else:\n",
        "      return Command(goto='__end__')\n",
        "\n",
        "# Define the Specialist Agents\n",
        "\n",
        "def weather_agent(state: MessagesState) -> Command:\n",
        "    \"\"\"A specialist agent for handling weather-related queries.\"\"\"\n",
        "    print(\"--- ☀️ WEATHER AGENT ---\")\n",
        "\n",
        "    prompt = f\"\"\"You are a weather forecaster. Provide a concise mock weather forecast\n",
        "    for the location mentioned in the user's message.\n",
        "\n",
        "    User message: \"{state['messages'][-1].content}\"\n",
        "    \"\"\"\n",
        "    response = llm.invoke(prompt)\n",
        "    print(f\"Response: {response.content}\")\n",
        "    # Return to the supervisor after the agent has run.\n",
        "    return Command(\n",
        "        goto=\"supervisor\",\n",
        "        update={\"messages\": [response]},\n",
        "    )\n",
        "\n",
        "def flights_agent(state: MessagesState) -> Command:\n",
        "    \"\"\"A specialist agent for handling flight-related queries.\"\"\"\n",
        "    print(\"--- ✈️ FLIGHTS AGENT ---\")\n",
        "\n",
        "    prompt = f\"\"\"You are a flight information assistant. Provide some mock flight\n",
        "    details for the destination in the user's message. Respond with short concise information.\n",
        "\n",
        "    User message: \"{state['messages'][-1].content}\"\n",
        "    \"\"\"\n",
        "    response = llm.invoke(prompt)\n",
        "    print(f\"Response: {response.content}\")\n",
        "    # Return to the supervisor after the agent has run.\n",
        "    return Command(\n",
        "        goto=\"supervisor\",\n",
        "        update={\"messages\": [response]},\n",
        "    )\n",
        "\n",
        "# Build the Graph\n",
        "\n",
        "builder = StateGraph(MessagesState)\n",
        "\n",
        "# Add the supervisor and agents as nodes in the graph.\n",
        "builder.add_node(\"supervisor\", supervisor)\n",
        "builder.add_node(\"Weather\", weather_agent)\n",
        "builder.add_node(\"Flights\", flights_agent)\n",
        "\n",
        "# The START node directs the flow to the supervisor first.\n",
        "builder.add_edge(START, \"supervisor\")\n",
        "\n",
        "# The graph is now complete. The `Command` objects will handle the dynamic routing.\n",
        "graph = builder.compile()"
      ],
      "metadata": {
        "id": "l3enAfrd24FB"
      },
      "execution_count": null,
      "outputs": []
    },
    {
      "cell_type": "code",
      "source": [
        "graph"
      ],
      "metadata": {
        "colab": {
          "base_uri": "https://localhost:8080/",
          "height": 281
        },
        "id": "S1ui1U0n3cYa",
        "outputId": "fc54d96d-f656-4a05-c02d-190756087e89"
      },
      "execution_count": null,
      "outputs": [
        {
          "output_type": "execute_result",
          "data": {
            "text/plain": [
              "<langgraph.graph.state.CompiledStateGraph object at 0x7b36418d2de0>"
            ],
            "image/png": "[encoded data removed]"
          },
          "metadata": {},
          "execution_count": 104
        }
      ]
    },
    {
      "cell_type": "code",
      "source": [
        "while True:\n",
        "    user_input = input(\"User: \")\n",
        "    if user_input.lower() in [\"quit\", \"exit\", \"q\"]:\n",
        "        print(\"Goodbye!\")\n",
        "        break\n",
        "\n",
        "    # The graph.stream() method invokes the graph and streams the results.\n",
        "    events = graph.stream({\"messages\":[HumanMessage(content=user_input)]})\n",
        "    for event in events:\n",
        "        # We only print the AI's responses to the user.\n",
        "        if \"messages\" in event:\n",
        "            event[\"messages\"][-1].pretty_print()"
      ],
      "metadata": {
        "colab": {
          "base_uri": "https://localhost:8080/"
        },
        "id": "WobNxv-o24CG",
        "outputId": "6e86b273-a679-4a38-eefb-f29f91fa7e09"
      },
      "execution_count": null,
      "outputs": [
        {
          "output_type": "stream",
          "name": "stdout",
          "text": [
            "User: What's the weather in Tunisia?\n",
            "--- 🧑‍💼 SUPERVISOR ---\n",
            "Supervisor routing to: Weather\n",
            "--- ☀️ WEATHER AGENT ---\n",
            "Response: Good morning, Tunisia! Expect a sunny day across most of the country. Temperatures will be warm, ranging from the mid-20s Celsius along the coast to the low 30s inland. A light breeze will keep things comfortable along the Mediterranean. Enjoy the sunshine!\n",
            "--- 🧑‍💼 SUPERVISOR ---\n",
            "User: Is there any flights from Tunisia to USA available today?\n",
            "--- 🧑‍💼 SUPERVISOR ---\n",
            "Supervisor routing to: Flights\n",
            "--- ✈️ FLIGHTS AGENT ---\n",
            "Response: Yes, there are flights available.\n",
            "\n",
            "*   **Airline:** Lufthansa\n",
            "*   **Departure:** Tunis (TUN) 10:00 AM\n",
            "*   **Arrival:** New York (JFK) 6:00 PM (Next Day)\n",
            "*   **Stops:** Frankfurt (FRA)\n",
            "*   **Price:** $850\n",
            "--- 🧑‍💼 SUPERVISOR ---\n",
            "User: thank you\n",
            "--- 🧑‍💼 SUPERVISOR ---\n",
            "Supervisor routing to: __end__\n",
            "User: q\n",
            "Goodbye!\n"
          ]
        }
      ]
    },
    {
      "cell_type": "markdown",
      "source": [
        "## Final Notes:\n",
        "There are several other patterns that are more advanced, but the ones we've seen here are the most commonly used ones, and that you can find in arguably all agentic architectures.\n",
        "\n",
        "LangGraph has prebuilt functions for defining agents that can be useful to avoid repetitiveness, for example:\n",
        "- `create_react_agent`: Create a react agent\n",
        "- `create_supervisor`: Create a supervisor for mult-agent architectures\n",
        "- `create_swarm`: Create swarm multi-agent systems with tool hand-offs."
      ],
      "metadata": {
        "id": "34kmHdR_-8HT"
      }
    },
    {
      "cell_type": "code",
      "source": [],
      "metadata": {
        "id": "DkNqfC07-725"
      },
      "execution_count": null,
      "outputs": []
    }
  ]
}