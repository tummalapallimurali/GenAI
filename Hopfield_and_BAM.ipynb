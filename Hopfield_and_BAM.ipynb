{
  "cells": [
    {
      "cell_type": "markdown",
      "metadata": {
        "id": "view-in-github",
        "colab_type": "text"
      },
      "source": [
        "<a href=\"https://colab.research.google.com/github/tummalapallimurali/GenAI/blob/main/Hopfield_and_BAM.ipynb\" target=\"_parent\"><img src=\"https://colab.research.google.com/assets/colab-badge.svg\" alt=\"Open In Colab\"/></a>"
      ]
    },
    {
      "cell_type": "markdown",
      "metadata": {
        "id": "zFdbK0T3XEOD"
      },
      "source": [
        "Problem 4: Use the bipolar input patterns A, D and H from Project 3.4 (on page 154).  \\\n",
        "(a) Create an autoassociative Hopfield network and train on these three patterns (15 inputs). \\\n",
        "(b) Test the recall on the same three patterns.  What are your conclusions?\\\n",
        "(c) Edit the patterns to become slightly and then severely corrupted (bits switched).  Test the recall of your Hopfield network on these corrupted A, D, and H patterns.  What are your conclusions?  What is the relationship of Hamming distance to classification accuracy?\n"
      ]
    },
    {
      "cell_type": "code",
      "execution_count": null,
      "metadata": {
        "id": "F6RH-qkXXEOI"
      },
      "outputs": [],
      "source": [
        "import numpy as np\n",
        "\n",
        "def weights(A, D):\n",
        "    W = np.outer(A, A) + np.outer(D, D)\n",
        "    np.fill_diagonal(W, 0)\n",
        "    return W\n",
        "\n",
        "def update_pattern(input_pattern, B):\n",
        "    A = input_pattern.copy()\n",
        "    for i in range(len(input_pattern)):\n",
        "        net = A @ B[:, i] + A[i]\n",
        "        A[i] = -1 if net < 0 else 1\n",
        "    return A\n",
        "\n",
        "def check_convergence(input_pattern, B):\n",
        "    A = update_pattern(input_pattern, B)\n",
        "    if np.array_equal(input_pattern, A):\n",
        "        print(\"Pattern converged to a stable state\")\n",
        "        return True\n",
        "    else:\n",
        "        print(\"Pattern did not converge to a stable state, repeat another iteration\")\n",
        "        return False\n",
        "\n",
        "# Test the energy function\n",
        "def energy(state, weights):\n",
        "    return -0.5 * np.sum(weights * np.outer(state, state))\n",
        "\n"
      ]
    },
    {
      "cell_type": "code",
      "execution_count": null,
      "metadata": {
        "id": "mN4aC8CZXEOK",
        "outputId": "821a25bf-419e-4210-dced-d82140714874"
      },
      "outputs": [
        {
          "name": "stdout",
          "output_type": "stream",
          "text": [
            "Weight matrix:\n",
            " [[ 0. -1.  1.  1. -1.  1.  1. -1.  1.  1. -1.  1.  1.  1. -1.]\n",
            " [-1.  0. -3.  1. -1.  1.  1. -1.  1.  1. -1.  1.  1.  1. -1.]\n",
            " [ 1. -3.  0. -1.  1. -1. -1.  1. -1. -1.  1. -1. -1. -1.  1.]\n",
            " [ 1.  1. -1.  0. -3.  3.  3.  1.  3.  3. -3.  3.  3. -1.  1.]\n",
            " [-1. -1.  1. -3.  0. -3. -3. -1. -3. -3.  3. -3. -3.  1. -1.]\n",
            " [ 1.  1. -1.  3. -3.  0.  3.  1.  3.  3. -3.  3.  3. -1.  1.]\n",
            " [ 1.  1. -1.  3. -3.  3.  0.  1.  3.  3. -3.  3.  3. -1.  1.]\n",
            " [-1. -1.  1.  1. -1.  1.  1.  0.  1.  1. -1.  1.  1. -3.  3.]\n",
            " [ 1.  1. -1.  3. -3.  3.  3.  1.  0.  3. -3.  3.  3. -1.  1.]\n",
            " [ 1.  1. -1.  3. -3.  3.  3.  1.  3.  0. -3.  3.  3. -1.  1.]\n",
            " [-1. -1.  1. -3.  3. -3. -3. -1. -3. -3.  0. -3. -3.  1. -1.]\n",
            " [ 1.  1. -1.  3. -3.  3.  3.  1.  3.  3. -3.  0.  3. -1.  1.]\n",
            " [ 1.  1. -1.  3. -3.  3.  3.  1.  3.  3. -3.  3.  0. -1.  1.]\n",
            " [ 1.  1. -1. -1.  1. -1. -1. -3. -1. -1.  1. -1. -1.  0. -3.]\n",
            " [-1. -1.  1.  1. -1.  1.  1.  3.  1.  1. -1.  1.  1. -3.  0.]]\n"
          ]
        }
      ],
      "source": [
        "import numpy as np\n",
        "\n",
        "input_A  = np.array([-1, 1, -1, 1, -1, 1, 1, 1, 1, 1, -1, 1, 1, -1, 1])\n",
        "target_A = np.array([-1, -1, -1])\n",
        "\n",
        "input_D = np.array([1, 1, -1, 1, -1, 1, 1, -1, 1, 1, -1, 1, 1, 1, -1])\n",
        "target_D = np.array([-1, 1, 1])\n",
        "\n",
        "input_H = np.array([1, -1, 1, 1, -1, 1, 1, 1, 1, 1, -1, 1, 1, -1, 1])\n",
        "target_H = np.array([1, 1, 1])\n",
        "\n",
        "# Corrupted version of input A\n",
        "input_A_corrupted = np.array([-1, 1, -1, 1, -1, 1, 1, 1, 1, 1, -1, 1, 1, 1, 1])\n",
        "\n",
        "# Corrupted version of input D\n",
        "input_D_corrupted = np.array([1, 1, -1, 1, -1, 1, 1, -1, 1, 1, -1, 1, 1, 1, 1])\n",
        "\n",
        "# Corrupted version of input H\n",
        "input_H_corrupted = np.array([1, -1, 1, 1, -1, 1, 1, 1, 1, 1, -1, 1, 1, -1, 1])\n",
        "\n",
        "# Combine input patterns into a list\n",
        "input_patterns = [input_A, input_D, input_H]\n",
        "target_patterns = [target_A, target_D, target_H]\n",
        "\n",
        "# Initialize weight matrix\n",
        "num_neurons = len(input_A)\n",
        "weights = np.zeros((num_neurons, num_neurons))\n",
        "\n",
        "# Train the network using the outer product\n",
        "for pattern in input_patterns:\n",
        "    weights += np.outer(pattern, pattern)\n",
        "\n",
        "# Ensure no self-connections\n",
        "np.fill_diagonal(weights, 0)\n",
        "\n",
        "print(\"Weight matrix:\\n\", weights)"
      ]
    },
    {
      "cell_type": "code",
      "execution_count": null,
      "metadata": {
        "id": "kBt3VnLzXEOM",
        "outputId": "f200dcc6-e1eb-46f2-9a18-534f55022b3b"
      },
      "outputs": [
        {
          "name": "stdout",
          "output_type": "stream",
          "text": [
            "------Hopfield network for A----------\n",
            "input for A [-1  1 -1  1 -1  1  1  1  1  1 -1  1  1 -1  1]\n",
            "Pattern did not converge to a stable state, repeat another iteration\n",
            "Pattern converged to a stable state\n",
            "Final pattern: [ 1  1 -1  1 -1  1  1  1  1  1 -1  1  1 -1  1]\n",
            "Energy of the final pattern: -163.0\n",
            "Energy of the initial pattern: -163.0\n"
          ]
        }
      ],
      "source": [
        "#Test the convergence of the network\n",
        "\n",
        "print(\"------Hopfield network for A----------\")\n",
        "print(\"input for A\", input_A)\n",
        "while not check_convergence(input_A, weights):\n",
        "    input_A = update_pattern(input_A, weights)\n",
        "output_pattern_A = input_A.copy()\n",
        "\n",
        "print(\"Final pattern:\", output_pattern_A)\n",
        "print(\"Energy of the final pattern:\", energy(output_pattern_A, weights))\n",
        "print(\"Energy of the initial pattern:\", energy(input_A, weights))"
      ]
    },
    {
      "cell_type": "code",
      "execution_count": null,
      "metadata": {
        "id": "GdCgZLb0XEOh",
        "outputId": "b3a843e1-dbbb-438c-b487-7f7ce0f530c1"
      },
      "outputs": [
        {
          "name": "stdout",
          "output_type": "stream",
          "text": [
            "------Hopfield network for D----------\n",
            "input for D [ 1  1 -1  1 -1  1  1 -1  1  1 -1  1  1  1 -1]\n",
            "Pattern converged to a stable state\n",
            "Final pattern: [ 1  1 -1  1 -1  1  1 -1  1  1 -1  1  1  1 -1]\n",
            "Energy of the final pattern: -127.0\n",
            "Energy of the initial pattern: -127.0\n"
          ]
        }
      ],
      "source": [
        "print(\"------Hopfield network for D----------\")\n",
        "print(\"input for D\", input_D)\n",
        "while not check_convergence(input_D, weights):\n",
        "    input_D = update_pattern(input_D, weights)\n",
        "output_pattern_D = input_D.copy()\n",
        "\n",
        "print(\"Final pattern:\", output_pattern_D)\n",
        "print(\"Energy of the final pattern:\", energy(output_pattern_D, weights))\n",
        "print(\"Energy of the initial pattern:\", energy(input_D, weights))"
      ]
    },
    {
      "cell_type": "code",
      "execution_count": null,
      "metadata": {
        "id": "sdlRsauXXEOo",
        "outputId": "b39427d2-287e-4a04-b672-59aa4f2dbf73"
      },
      "outputs": [
        {
          "name": "stdout",
          "output_type": "stream",
          "text": [
            "input for H [ 1 -1  1  1 -1  1  1  1  1  1 -1  1  1 -1  1]\n",
            "Pattern did not converge to a stable state, repeat another iteration\n",
            "Pattern converged to a stable state\n",
            "Final pattern: [ 1  1 -1  1 -1  1  1  1  1  1 -1  1  1 -1  1]\n",
            "Energy of the final pattern: -163.0\n",
            "Energy of the initial pattern: -163.0\n"
          ]
        }
      ],
      "source": [
        "print(\"input for H\", input_H)\n",
        "while not check_convergence(input_H, weights):\n",
        "    input_H = update_pattern(input_H, weights)\n",
        "output_pattern_H = input_H.copy()\n",
        "\n",
        "print(\"Final pattern:\", output_pattern_H)\n",
        "print(\"Energy of the final pattern:\", energy(output_pattern_H, weights))\n",
        "print(\"Energy of the initial pattern:\", energy(input_H, weights))"
      ]
    },
    {
      "cell_type": "code",
      "execution_count": null,
      "metadata": {
        "id": "z2AAB3JRXEOo",
        "outputId": "109fd23d-0268-4024-a86b-822a47a8cb4c"
      },
      "outputs": [
        {
          "name": "stdout",
          "output_type": "stream",
          "text": [
            "Hamming distance between A and D: 3\n",
            "Hamming distance between A and H: 0\n",
            "Hamming distance between D and H: 3\n"
          ]
        }
      ],
      "source": [
        "# calculate hamming distance\n",
        "def hamming_distance(pattern1, pattern2):\n",
        "    return np.sum(pattern1 != pattern2)\n",
        "\n",
        "# Test the hamming distance\n",
        "print(\"Hamming distance between A and D:\", hamming_distance(output_pattern_A, output_pattern_D))\n",
        "print(\"Hamming distance between A and H:\", hamming_distance(output_pattern_A, output_pattern_H))\n",
        "print(\"Hamming distance between D and H:\", hamming_distance(output_pattern_D, output_pattern_H))\n"
      ]
    },
    {
      "cell_type": "markdown",
      "metadata": {
        "id": "AYE-sDNEXEOp"
      },
      "source": [
        "1. Energy levels drooped from 0 to -4 , this is because the energy levels are decreasing as the pattern converges to a stable state\n",
        "2. The energy levels are decreasing as the pattern converges, should always drop to -4"
      ]
    },
    {
      "cell_type": "code",
      "execution_count": null,
      "metadata": {
        "id": "WgNYidzqXEOp",
        "outputId": "fc315e77-381f-45cf-8fb1-d1cd7f3567d6"
      },
      "outputs": [
        {
          "name": "stdout",
          "output_type": "stream",
          "text": [
            "------Hopfield network for A----------\n",
            "input for A [-1  1 -1  1 -1  1  1  1  1  1 -1  1  1  1  1]\n",
            "Pattern did not converge to a stable state, repeat another iteration\n",
            "Pattern converged to a stable state\n",
            "Final pattern: [ 1  1 -1  1 -1  1  1  1  1  1 -1  1  1 -1  1]\n",
            "Energy of the final pattern: -163.0\n",
            "Energy of the initial pattern: -163.0\n"
          ]
        }
      ],
      "source": [
        "#Test the convergence of the network with corrupted patterns\n",
        "print(\"------Hopfield network for A----------\")\n",
        "print(\"input for A\", input_A_corrupted)\n",
        "while not check_convergence(input_A_corrupted, weights):\n",
        "    input_A_corrupted = update_pattern(input_A_corrupted, weights)\n",
        "output_pattern_A_corrupt = input_A_corrupted.copy()\n",
        "\n",
        "print(\"Final pattern:\", input_A_corrupted)\n",
        "print(\"Energy of the final pattern:\", energy(output_pattern_A_corrupt, weights))\n",
        "print(\"Energy of the initial pattern:\", energy(input_A_corrupted, weights))"
      ]
    },
    {
      "cell_type": "code",
      "execution_count": null,
      "metadata": {
        "id": "8o38z3OmXEOp",
        "outputId": "9493a249-e333-4304-f948-bfcb4a728674"
      },
      "outputs": [
        {
          "name": "stdout",
          "output_type": "stream",
          "text": [
            "------Hopfield network for D----------\n",
            "input for D [ 1  1 -1  1 -1  1  1 -1  1  1 -1  1  1  1  1]\n",
            "Pattern did not converge to a stable state, repeat another iteration\n",
            "Pattern converged to a stable state\n",
            "Final pattern: [ 1  1 -1  1 -1  1  1  1  1  1 -1  1  1 -1  1]\n",
            "Energy of the final pattern: -163.0\n",
            "Energy of the initial pattern: -163.0\n"
          ]
        }
      ],
      "source": [
        "#Test the convergence of the network with corrupted patterns\n",
        "print(\"------Hopfield network for D----------\")\n",
        "print(\"input for D\", input_D_corrupted)\n",
        "while not check_convergence(input_D_corrupted, weights):\n",
        "    input_D_corrupted = update_pattern(input_D_corrupted, weights)\n",
        "output_pattern_D_corrupt = input_D_corrupted.copy()\n",
        "\n",
        "print(\"Final pattern:\", input_D_corrupted)\n",
        "print(\"Energy of the final pattern:\", energy(output_pattern_D_corrupt, weights))\n",
        "print(\"Energy of the initial pattern:\", energy(input_D_corrupted, weights))"
      ]
    },
    {
      "cell_type": "code",
      "execution_count": null,
      "metadata": {
        "id": "TGSNhHEOXEOq",
        "outputId": "5bd82bf2-edad-4fbc-b0c9-da845994858a"
      },
      "outputs": [
        {
          "name": "stdout",
          "output_type": "stream",
          "text": [
            "------Hopfield network for H----------\n",
            "input for H [ 1 -1  1  1 -1  1  1  1  1  1 -1  1  1 -1  1]\n",
            "Pattern converged to a stable state\n",
            "Final pattern: [ 1 -1  1  1 -1  1  1  1  1  1 -1  1  1 -1  1]\n",
            "Energy of the final pattern: -143.0\n",
            "Energy of the initial pattern: -143.0\n"
          ]
        }
      ],
      "source": [
        "#Test the convergence of the network with corrupted patterns\n",
        "print(\"------Hopfield network for H----------\")\n",
        "print(\"input for H\", input_H_corrupted)\n",
        "while not check_convergence(input_A_corrupted, weights):\n",
        "    input_H_corrupted = update_pattern(input_H_corrupted, weights)\n",
        "output_pattern_H_corrupt = input_H_corrupted.copy()\n",
        "\n",
        "print(\"Final pattern:\", input_H_corrupted)\n",
        "print(\"Energy of the final pattern:\", energy(output_pattern_H_corrupt, weights))\n",
        "print(\"Energy of the initial pattern:\", energy(input_H_corrupted, weights))"
      ]
    },
    {
      "cell_type": "markdown",
      "metadata": {
        "id": "ZKN_GR7zXEOq"
      },
      "source": [
        "## What is your conclusion? \\\n",
        "The Hopfield network is able to recall the original patterns with high accuracy. However, when the patterns are corrupted, the network is not able to recall the original patterns. The classification accuracy decreases as the Hamming distance increases. \\"
      ]
    },
    {
      "cell_type": "markdown",
      "metadata": {
        "id": "bDVBjd-JXEOq"
      },
      "source": [
        "Problem 5: Use the bipolar input patterns A, D and H from Project 3.4 (on page 154). \\\n",
        "(a) Create a heteroassociative BAM network and train on these three patterns (15 inputs, and 3 outputs).\\\n",
        "(b) Test the recall on the same three patterns.  What are your conclusions?  How does the BAM performance compare with the Hopfield performance from Problem 4?\\\n",
        "(c) Test the recall of your BAM network using the same set of corrupted A, D, and H patterns in Problem 4 part c.  What are your conclusions?  How does the BAM performance compare with the Hopfield performance?"
      ]
    },
    {
      "cell_type": "code",
      "execution_count": null,
      "metadata": {
        "id": "9dmC3ciWXEOr",
        "outputId": "1e92c090-7651-4733-b03b-7c613b80b594"
      },
      "outputs": [
        {
          "name": "stdout",
          "output_type": "stream",
          "text": [
            "Weight matrix for A:\n",
            " [[ 1. -1.]\n",
            " [-1.  1.]\n",
            " [ 1. -1.]\n",
            " [-1.  1.]\n",
            " [ 1. -1.]\n",
            " [-1.  1.]\n",
            " [-1.  1.]\n",
            " [-1.  1.]\n",
            " [-1.  1.]\n",
            " [-1.  1.]\n",
            " [ 1. -1.]\n",
            " [-1.  1.]\n",
            " [-1.  1.]\n",
            " [ 1. -1.]\n",
            " [-1.  1.]]\n",
            "NetA: [-15.  15.]\n",
            "Output: [-1  1]\n",
            "Input  A: [-1  1 -1  1 -1  1  1  1  1  1 -1  1  1 -1  1]\n",
            "Recall A: [-1  1 -1  1 -1  1  1  1  1  1 -1  1  1 -1  1]\n",
            "Pattern converged to a stable state.Stop iteration\n"
          ]
        }
      ],
      "source": [
        "# hetroassociative BAM network for input pattern A\n",
        "\n",
        "input_A  = np.array([-1, 1, -1, 1, -1, 1, 1, 1, 1, 1, -1, 1, 1, -1, 1])\n",
        "target_A = np.array([-1, 1])\n",
        "weights_A = np.zeros((len(input_A), len(target_A)))\n",
        "\n",
        "\n",
        "# compute network for input pattern A\n",
        "\n",
        "for i in range(len(input_A)):\n",
        "    for j in range(len(target_A)):\n",
        "        weights_A[i, j] = input_A[i] * target_A[j]\n",
        "\n",
        "print(\"Weight matrix for A:\\n\", weights_A)\n",
        "\n",
        "\n",
        "netA = input_A @ weights_A # Activation function\n",
        "print(\"NetA:\", netA)\n",
        "outputA = np.where(netA < 0, -1, 1)\n",
        "print(\"Output:\", outputA)\n",
        "\n",
        "# Test convergence for input pattern A\n",
        "\n",
        "recall_A = outputA @ weights_A.T\n",
        "recall_A = np.where(recall_A < 0, -1, 1)\n",
        "print(\"Input  A:\", input_A)\n",
        "print(\"Recall A:\", recall_A)\n",
        "if np.array_equal(input_A, recall_A):\n",
        "    print(\"Pattern converged to a stable state.Stop iteration\")\n",
        "else:\n",
        "    print(\" Recall is not same as input, so we try again with another iteration to produce net with input from previous step as recall and weights\")\n",
        "\n",
        "\n"
      ]
    },
    {
      "cell_type": "code",
      "execution_count": null,
      "metadata": {
        "id": "ZZS_tQRfXEOs",
        "outputId": "6ea59ab2-5503-47b3-e009-0ad82dbdea2d"
      },
      "outputs": [
        {
          "name": "stdout",
          "output_type": "stream",
          "text": [
            "Weight matrix for D:\n",
            " [[-1.  1.  1.]\n",
            " [-1.  1.  1.]\n",
            " [ 1. -1. -1.]\n",
            " [-1.  1.  1.]\n",
            " [ 1. -1. -1.]\n",
            " [-1.  1.  1.]\n",
            " [-1.  1.  1.]\n",
            " [ 1. -1. -1.]\n",
            " [-1.  1.  1.]\n",
            " [-1.  1.  1.]\n",
            " [ 1. -1. -1.]\n",
            " [-1.  1.  1.]\n",
            " [-1.  1.  1.]\n",
            " [-1.  1.  1.]\n",
            " [ 1. -1. -1.]]\n",
            "NetD: [-15.  15.  15.]\n",
            "Output: [-1  1  1]\n",
            "Input  A: [ 1  1 -1  1 -1  1  1 -1  1  1 -1  1  1  1 -1]\n",
            "Recall A: [ 1  1 -1  1 -1  1  1 -1  1  1 -1  1  1  1 -1]\n",
            "Pattern converged to a stable state.Stop iteration\n"
          ]
        }
      ],
      "source": [
        "input_D = np.array([1, 1, -1, 1, -1, 1, 1, -1, 1, 1, -1, 1, 1, 1, -1])\n",
        "target_D = np.array([-1, 1, 1])\n",
        "weights_D = np.zeros((len(input_D), len(target_D)))\n",
        "\n",
        "\n",
        "# compute network for input pattern A\n",
        "\n",
        "for i in range(len(input_D)):\n",
        "    for j in range(len(target_D)):\n",
        "        weights_D[i, j] = input_D[i] * target_D[j]\n",
        "\n",
        "print(\"Weight matrix for D:\\n\", weights_D)\n",
        "\n",
        "netD = input_D @ weights_D # Activation function\n",
        "print(\"NetD:\", netD)\n",
        "outputD = np.where(netD < 0, -1, 1)\n",
        "print(\"Output:\", outputD)\n",
        "\n",
        "# Test convergence for input pattern D\n",
        "\n",
        "recall_D = outputD @ weights_D.T\n",
        "recall_D = np.where(recall_D < 0, -1, 1)\n",
        "print(\"Input  A:\", input_D)\n",
        "print(\"Recall A:\", recall_D)\n",
        "if np.array_equal(input_D, recall_D):\n",
        "    print(\"Pattern converged to a stable state.Stop iteration\")\n",
        "else:\n",
        "    print(\" Recall is not same as input, so we try again with another iteration to produce net with input from previous step as recall and weights\")\n"
      ]
    },
    {
      "cell_type": "code",
      "execution_count": null,
      "metadata": {
        "id": "ril4NIM9XEOs",
        "outputId": "f541067f-75ce-4179-ee5c-6d0db94c985e"
      },
      "outputs": [
        {
          "name": "stdout",
          "output_type": "stream",
          "text": [
            "Weight matrix for H:\n",
            " [[ 1.  1.  1.]\n",
            " [-1. -1. -1.]\n",
            " [ 1.  1.  1.]\n",
            " [ 1.  1.  1.]\n",
            " [-1. -1. -1.]\n",
            " [ 1.  1.  1.]\n",
            " [ 1.  1.  1.]\n",
            " [ 1.  1.  1.]\n",
            " [ 1.  1.  1.]\n",
            " [ 1.  1.  1.]\n",
            " [-1. -1. -1.]\n",
            " [ 1.  1.  1.]\n",
            " [ 1.  1.  1.]\n",
            " [-1. -1. -1.]\n",
            " [ 1.  1.  1.]]\n",
            "NetH: [15. 15. 15.]\n",
            "Output: [1 1 1]\n",
            "Input  H: [ 1 -1  1  1 -1  1  1  1  1  1 -1  1  1 -1  1]\n",
            "Recall H: [ 1 -1  1  1 -1  1  1  1  1  1 -1  1  1 -1  1]\n",
            "Pattern converged to a stable state.Stop iteration\n"
          ]
        }
      ],
      "source": [
        "input_H = np.array([1, -1, 1, 1, -1, 1, 1, 1, 1, 1, -1, 1, 1, -1, 1])\n",
        "target_H = np.array([1, 1, 1])\n",
        "weights_H = np.zeros((len(input_H), len(target_H)))\n",
        "\n",
        "# compute network for input pattern H\n",
        "\n",
        "for i in range(len(input_H)):\n",
        "    for j in range(len(target_H)):\n",
        "        weights_H[i, j] = input_H[i] * target_H[j]\n",
        "\n",
        "print(\"Weight matrix for H:\\n\", weights_H)\n",
        "\n",
        "netH = input_H @ weights_H # Activation function\n",
        "print(\"NetH:\", netH)\n",
        "outputH = np.where(netH < 0, -1, 1)\n",
        "print(\"Output:\", outputH)\n",
        "\n",
        "# Test convergence for input pattern H\n",
        "\n",
        "recall_H = outputH @ weights_H.T\n",
        "recall_H = np.where(recall_H < 0, -1, 1)\n",
        "print(\"Input  H:\", input_H)\n",
        "print(\"Recall H:\", recall_H)\n",
        "if np.array_equal(input_H, recall_H):\n",
        "    print(\"Pattern converged to a stable state.Stop iteration\")\n",
        "else:\n",
        "    print(\" Recall is not same as input, so we try again with another iteration to produce net with input from previous step as recall and weights\")"
      ]
    },
    {
      "cell_type": "code",
      "execution_count": null,
      "metadata": {
        "id": "H9x5l4SvXEOs",
        "outputId": "c2ca925e-d1fd-45b7-c7c6-eb83db12a8c0"
      },
      "outputs": [
        {
          "name": "stdout",
          "output_type": "stream",
          "text": [
            "NetACorrupt: [-13.  13.]\n",
            "Output A: [-1  1]\n",
            "Input  A corrupt: [-1  1 -1  1 -1  1  1  1  1  1 -1  1  1 -1  1]\n",
            "Recall A corrupt: [-1  1 -1  1 -1  1  1  1  1  1 -1  1  1 -1  1]\n",
            "Pattern converged to a stable state.Stop iteration\n"
          ]
        }
      ],
      "source": [
        "# input_C  = np.array([-1, 1, 1, 1, -1, -1, 1, -1, -1, 1, -1, -1, -1, 1, 1])\n",
        "# target_C = np.array([1, 1])\n",
        "\n",
        "# weights_C = np.zeros((len(input_C), len(target_C)))\n",
        "\n",
        "# # compute network for input pattern C\n",
        "# for i in range(len(input_C)):\n",
        "#     for j in range(len(target_C)):\n",
        "#         weights_C[i, j] = input_C[i] * target_C[j]\n",
        "\n",
        "# print(\"Weight matrix for C:\\n\", weights_C)\n",
        "\n",
        "# corrpurted version of input A\n",
        "input_A_corrupted = np.array([-1, 1, -1, 1, -1, 1, 1, 1, 1, 1, -1, 1, 1, 1, 1])\n",
        "\n",
        "net_A_corrupt = input_A_corrupted @ weights_A\n",
        "print(\"NetACorrupt:\", net_A_corrupt)\n",
        "outputACorrupt = np.where(net_A_corrupt < 0, -1, 1)\n",
        "print(\"Output A:\", outputACorrupt)\n",
        "\n",
        "recall_A_Corrupt = outputACorrupt @ weights_A.T\n",
        "recall_A_Corrupt = np.where(recall_A_Corrupt < 0, -1, 1)\n",
        "print(\"Input  A corrupt:\", recall_A_Corrupt)\n",
        "print(\"Recall A corrupt:\", recall_A_Corrupt)\n",
        "# Test convergence for input pattern C\n",
        "if np.array_equal(recall_A_Corrupt, recall_A_Corrupt):\n",
        "    print(\"Pattern converged to a stable state.Stop iteration\")\n",
        "else:\n",
        "    print(\" Recall A is not same as input A, so we try again with another iteration to produce net with input as recall_C and weights_C\")\n",
        "\n",
        "# net2 = recall_A_Corrupt @ weights_A\n",
        "# print(\"NetC:\", netC)\n",
        "# outputC2 = np.where(netC < 0, -1, 1)\n",
        "# print(\"Output C:\", outputC2)\n",
        "\n",
        "# recall_C2 = outputC2 @ weights_C.T\n",
        "# recall_C2 = np.where(recall_C2 < 0, -1, 1)\n",
        "# print(\"Input  C:\", input_C)\n",
        "# print(\"Recall C:\", recall_C2)\n",
        "# # Test convergence for input pattern C\n",
        "# if np.array_equal(input_C, recall_C2):\n",
        "#     print(\"Pattern converged to a stable state.Stop iteration\")\n",
        "# else:\n",
        "#     print(\" Recall C is not same as input C, so we try again with another iteration to produce net with input as recall_C and weights_C\")\n",
        "\n"
      ]
    },
    {
      "cell_type": "code",
      "execution_count": null,
      "metadata": {
        "id": "IbjiOCyXXEOt",
        "outputId": "3958afd1-4607-45f8-d4e6-bf2a4703cbac"
      },
      "outputs": [
        {
          "name": "stdout",
          "output_type": "stream",
          "text": [
            "NetDCorrupt: [-13.  13.  13.]\n",
            "Output D: [-1  1  1]\n",
            "Input  D corrupt: [ 1  1 -1  1 -1  1  1 -1  1  1 -1  1  1  1 -1]\n",
            "Recall D corrupt: [ 1  1 -1  1 -1  1  1 -1  1  1 -1  1  1  1 -1]\n",
            "Pattern converged to a stable state.Stop iteration\n"
          ]
        }
      ],
      "source": [
        "# corrpurted version of input D\n",
        "input_D_corrupted = np.array([1, 1, -1, 1, -1, 1, 1, -1, 1, 1, -1, 1, 1, 1, 1])\n",
        "\n",
        "net_D_corrupt = input_D_corrupted @ weights_D\n",
        "print(\"NetDCorrupt:\", net_D_corrupt)\n",
        "outputDCorrupt = np.where(net_D_corrupt < 0, -1, 1)\n",
        "print(\"Output D:\", outputDCorrupt)\n",
        "\n",
        "recall_D_Corrupt = outputDCorrupt @ weights_D.T\n",
        "recall_D_Corrupt = np.where(recall_D_Corrupt < 0, -1, 1)\n",
        "print(\"Input  D corrupt:\", recall_D_Corrupt)\n",
        "print(\"Recall D corrupt:\", recall_D_Corrupt)\n",
        "# Test convergence for input pattern D\n",
        "if np.array_equal(recall_D_Corrupt, recall_D_Corrupt):\n",
        "    print(\"Pattern converged to a stable state.Stop iteration\")\n",
        "else:\n",
        "    print(\" Recall D is not same as input D, so we try again with another iteration to produce net with input as recall_D and weights_D\")"
      ]
    },
    {
      "cell_type": "code",
      "execution_count": null,
      "metadata": {
        "id": "QRlcQ7Q5XEOt",
        "outputId": "943686f7-1870-4d6a-8f19-692e9295b40d"
      },
      "outputs": [
        {
          "name": "stdout",
          "output_type": "stream",
          "text": [
            "NetHCorrupt: [15. 15. 15.]\n",
            "Output H: [1 1 1]\n",
            "Input  H corrupt: [ 1 -1  1  1 -1  1  1  1  1  1 -1  1  1 -1  1]\n",
            "Recall H corrupt: [ 1 -1  1  1 -1  1  1  1  1  1 -1  1  1 -1  1]\n",
            "Pattern converged to a stable state.Stop iteration\n"
          ]
        }
      ],
      "source": [
        "# corrpurted version of input H\n",
        "input_H_corrupted = np.array([1, -1, 1, 1, -1, 1, 1, 1, 1, 1, -1, 1, 1, -1, 1])\n",
        "\n",
        "net_H_corrupt = input_H_corrupted @ weights_H\n",
        "print(\"NetHCorrupt:\", net_H_corrupt)\n",
        "outputHCorrupt = np.where(net_H_corrupt < 0, -1, 1)\n",
        "print(\"Output H:\", outputHCorrupt)\n",
        "\n",
        "recall_H_Corrupt = outputHCorrupt @ weights_H.T\n",
        "recall_H_Corrupt = np.where(recall_H_Corrupt < 0, -1, 1)\n",
        "print(\"Input  H corrupt:\", recall_H_Corrupt)\n",
        "print(\"Recall H corrupt:\", recall_H_Corrupt)\n",
        "# Test convergence for input pattern H\n",
        "if np.array_equal(recall_H_Corrupt, recall_H_Corrupt):\n",
        "    print(\"Pattern converged to a stable state.Stop iteration\")\n",
        "else:\n",
        "    print(\" Recall H is not same as input H, so we try again with another iteration to produce net with input as recall_H and weights_H\")"
      ]
    },
    {
      "cell_type": "markdown",
      "metadata": {
        "id": "edbn3kWSXEOt"
      },
      "source": [
        "# What are your conclusions? \\\n",
        "The BAM network is able to recall the original patterns with high accuracy. The BAM performance is better than the Hopfield performance. The BAM network is able to recall the original patterns even when they are corrupted. The classification accuracy decreases as the Hamming distance increases. \\"
      ]
    }
  ],
  "metadata": {
    "kernelspec": {
      "display_name": "Python 3",
      "language": "python",
      "name": "python3"
    },
    "language_info": {
      "codemirror_mode": {
        "name": "ipython",
        "version": 3
      },
      "file_extension": ".py",
      "mimetype": "text/x-python",
      "name": "python",
      "nbconvert_exporter": "python",
      "pygments_lexer": "ipython3",
      "version": "3.9.6"
    },
    "colab": {
      "provenance": [],
      "include_colab_link": true
    }
  },
  "nbformat": 4,
  "nbformat_minor": 0
}