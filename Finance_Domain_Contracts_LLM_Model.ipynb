{
  "nbformat": 4,
  "nbformat_minor": 0,
  "metadata": {
    "colab": {
      "provenance": [],
      "include_colab_link": true
    },
    "kernelspec": {
      "name": "python3",
      "display_name": "Python 3"
    },
    "language_info": {
      "name": "python"
    }
  },
  "cells": [
    {
      "cell_type": "markdown",
      "metadata": {
        "id": "view-in-github",
        "colab_type": "text"
      },
      "source": [
        "<a href=\"https://colab.research.google.com/github/tummalapallimurali/GenAI/blob/main/Finance_Domain_Contracts_LLM_Model.ipynb\" target=\"_parent\"><img src=\"https://colab.research.google.com/assets/colab-badge.svg\" alt=\"Open In Colab\"/></a>"
      ]
    },
    {
      "cell_type": "markdown",
      "source": [
        "Problem Statement: Banking and Finance contains sensitive information, using generative ai tools documents needs to be sent to 3rd party tools which is an compliance issue for security. LLM model with pre-trained weights and bank specific data set can solve this issue.\n",
        "\n",
        "Challenges:\n",
        "\n",
        "\n",
        "- Collect dataset\n",
        "- Data Preprocessing\n",
        "- Research on different transfomers.\n",
        "- Start with bert, Spacy\n",
        "- Apply fine tuning and pick best trasformer model that fits finance domain terminology.\n",
        "- 2 objectives of LLM model: Given a financial contract,\n",
        "  1. Q/A user should be able to ask specific questions related like contract end date,\n",
        "  2. Given a contract , LLM should provide summary in abstract format.\n",
        "  3. Certification of products(TBD)"
      ],
      "metadata": {
        "id": "EMzSN-SN8_vl"
      }
    },
    {
      "cell_type": "code",
      "execution_count": null,
      "metadata": {
        "id": "XLs5Tlrx8tr4"
      },
      "outputs": [],
      "source": []
    }
  ]
}