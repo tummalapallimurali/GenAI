{
  "nbformat": 4,
  "nbformat_minor": 0,
  "metadata": {
    "colab": {
      "provenance": [],
      "gpuType": "T4",
      "authorship_tag": "ABX9TyP9CHDv5H/GPw+CsGV+D3Uj",
      "include_colab_link": true
    },
    "kernelspec": {
      "name": "python3",
      "display_name": "Python 3"
    },
    "language_info": {
      "name": "python"
    },
    "accelerator": "GPU"
  },
  "cells": [
    {
      "cell_type": "markdown",
      "metadata": {
        "id": "view-in-github",
        "colab_type": "text"
      },
      "source": [
        "<a href=\"https://colab.research.google.com/github/tummalapallimurali/GenAI/blob/main/RBFNs.ipynb\" target=\"_parent\"><img src=\"https://colab.research.google.com/assets/colab-badge.svg\" alt=\"Open In Colab\"/></a>"
      ]
    },
    {
      "cell_type": "markdown",
      "source": [
        "#  Radial Basis Function Networks"
      ],
      "metadata": {
        "id": "lZYzeyI31urE"
      }
    },
    {
      "cell_type": "markdown",
      "source": [
        "# Radial Basis Function Network\n",
        "\n",
        "* Gaussian as transfer function\n",
        "* How to determine neuron centers?\n",
        "* How to determine neuron widths?\n",
        "* Find weights using Gradient Descent rule"
      ],
      "metadata": {
        "id": "qHu-ZW7PbPqO"
      }
    },
    {
      "cell_type": "code",
      "source": [
        "# determine centers\n",
        "from sklearn.cluster import KMeans\n",
        "import numpy as np\n",
        "\n",
        "def kmeans(X,k):\n",
        "  kmeans = KMeans(n_clusters=k, random_state=0).fit(X)\n",
        "  return kmeans.cluster_centers_\n",
        "\n",
        "# calculate centers average distance between centers\n",
        "\n",
        "def calculate_distance(centers):\n",
        "    num_centers = centers.shape[0]\n",
        "    distances = []\n",
        "\n",
        "    for i in range(num_centers):\n",
        "        for j in range(i + 1, num_centers):  # Avoid calculating distance twice\n",
        "            distance = np.linalg.norm(centers[i] - centers[j])\n",
        "            distances.append(distance)\n",
        "\n",
        "    avg_distance = np.mean(distances) # Calculate average distance\n",
        "    return avg_distance # Return average distance instead of the list\n",
        "\n",
        "# calculate radial function\n",
        "def radial_function(input, centers, sigma):\n",
        "    \"\"\"\n",
        "    Calculates the radial function values for a given input and centers.\n",
        "    \"\"\"\n",
        "    num_centers = len(centers)\n",
        "    radial_functions = []\n",
        "    for i in range(num_centers):\n",
        "        # sigma is now a single value (average distance)\n",
        "        radial_function = np.exp(-(np.linalg.norm(input - centers[i])**2) / (2 * sigma**2))\n",
        "        radial_functions.append(radial_function)\n",
        "    return radial_functions\n",
        "\n",
        "\n",
        "\n",
        "X = np.array([[1.0,3.0],[1.5,3.2],[1.3,2.8],[3.0,1.0]])\n",
        "centers = kmeans(X,2)\n",
        "input = np.array([[4,1], [2,3]])\n",
        "# Get the average distance as sigma\n",
        "sigma = calculate_distance(centers)\n",
        "print(centers)\n",
        "print(sigma) # Print the average distance (sigma)\n",
        "\n",
        "radial_functions = radial_function(input,centers,sigma) # Pass average distance as sigma\n",
        "print(radial_functions)"
      ],
      "metadata": {
        "colab": {
          "base_uri": "https://localhost:8080/"
        },
        "id": "KLIN9Mb2b7ye",
        "outputId": "d4063d7f-40a7-4b1f-cb46-b78a253a9848"
      },
      "execution_count": null,
      "outputs": [
        {
          "output_type": "stream",
          "name": "stdout",
          "text": [
            "[[1.26666667 3.        ]\n",
            " [3.         1.        ]]\n",
            "2.6465910988372277\n",
            "[0.42433437997603113, 0.6516162314724497]\n"
          ]
        }
      ]
    },
    {
      "cell_type": "markdown",
      "source": [
        "There are two software mini-projects in this assignment, all based on radial basis function networks (RBFNs). Write your own program for these two problems and include your code files with submission.\n",
        "\n",
        "Problem 1: Do project 6.3 (on page 333).\n",
        "\n",
        "(a) For your networks, try three different architectures (different number of RBF units), three sets of random initial weights holding everything else constant, and three different sigmas.  Summarize the performance of your RBFNs and your training experiences with these alterations.\n",
        "\n",
        "(b) Using one of your trained RBFNs from part (a), do the following:\n",
        "\n",
        "(i) Test your trained RBFN using your slightly corrupted file from HW2.  How is the classification accuracy of your trained RBFN?  How does the performance of your RBFN compare with that of your Backprop from HW2?\n",
        "\n",
        "(ii) Test your trained RBFN using your severely corrupted file from HW2.  How is the classification accuracy of your trained RBFN? How does the performance of your RBFN compare with that of your Backprop from HW2?\n",
        "\n",
        "Problem 2: This is a function approximation problem, with two inputs (x) and one output (y).  The function is  where x1 and x2 range from -1.0 to 1.0, i.e., .  This function is also known as the “six hump camelback function.”\n",
        "\n",
        "(a) Refer to the two training sets (one of size 30 and one of size 300) and testing set (size of 500) you created for HW2.  Design and conduct experiments using the two training sets for RBFN for this problem.  Summarize the performance of your RBFNs and your training experiences.\n",
        "\n",
        "(i) Select one of the RBFNs that is trained on the dataset of 30 and test it on the testing set of 500 observations.  What are your findings?  Compare the performance of your RBFN with that of the Backprop from HW2.\n",
        "\n",
        "(ii) Select one of the RBFNs that is trained on the dataset of 300, test it on the testing set of 500 observations.  What are your findings?  Compare the performance of your RBFN with that of the Backprop from HW2.\n",
        "\n",
        "(b) Refer to the two noisy training sets (one of size 10 and one of size 50) and testing set (size of 500) you created for HW2. Design and conduct experiments using the two noisy training sets for RBFN for this problem.  Summarize the performance of your RBFNs and your training experiences.\n",
        "\n",
        "(i) Select one of the RBFNs that is trained on the noisy dataset of 10 and test it on the testing set of 500 observations.  What are your findings?  Compare the performance of your RBFN with that of the Backprop from HW2.\n",
        "\n",
        "(ii) Select one of the RBFNs that is trained on the noisy dataset of 50 and  test it on the testing set of 500 observations.  What are your findings?  Compare the performance of your RBFN with that of the Backprop from HW2.\n",
        "\n",
        "(c) How do the results of all four RBFNs compare?  Summarize and discuss your findings."
      ],
      "metadata": {
        "id": "uigpYTeJt1yH"
      }
    },
    {
      "cell_type": "code",
      "source": [],
      "metadata": {
        "id": "PwgiL3L2t36g"
      },
      "execution_count": null,
      "outputs": []
    }
  ]
}